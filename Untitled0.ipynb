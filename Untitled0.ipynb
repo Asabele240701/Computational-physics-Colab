{
  "nbformat": 4,
  "nbformat_minor": 0,
  "metadata": {
    "colab": {
      "name": "Untitled0.ipynb",
      "provenance": [],
      "authorship_tag": "ABX9TyM9Gmy82asD15sut/1IGnKu",
      "include_colab_link": true
    },
    "kernelspec": {
      "name": "python3",
      "display_name": "Python 3"
    },
    "language_info": {
      "name": "python"
    }
  },
  "cells": [
    {
      "cell_type": "markdown",
      "metadata": {
        "id": "view-in-github",
        "colab_type": "text"
      },
      "source": [
        "<a href=\"https://colab.research.google.com/github/Asabele240701/Computational-physics-Colab/blob/main/Untitled0.ipynb\" target=\"_parent\"><img src=\"https://colab.research.google.com/assets/colab-badge.svg\" alt=\"Open In Colab\"/></a>"
      ]
    },
    {
      "cell_type": "code",
      "execution_count": 1,
      "metadata": {
        "id": "VnfCoKNE6U81",
        "colab": {
          "base_uri": "https://localhost:8080/",
          "height": 626
        },
        "outputId": "2052059e-1097-4b13-87ca-276524c5b33a"
      },
      "outputs": [
        {
          "output_type": "stream",
          "name": "stdout",
          "text": [
            "please enter a number:3\n",
            "BLACK\n",
            "Please enter a number(to stop the prompt, enter a special string'*':4\n",
            "Please enter a number(to stop the prompt, enter a special string'*':34\n",
            "Please enter a number(to stop the prompt, enter a special string'*':5\n",
            "Please enter a number(to stop the prompt, enter a special string'*':65\n",
            "Please enter a number(to stop the prompt, enter a special string'*':44\n",
            "Please enter a number(to stop the prompt, enter a special string'*':3\n",
            "Please enter a number(to stop the prompt, enter a special string'*':*\n",
            "This list of numbers entered is : [4.0, 34.0, 5.0, 65.0, 44.0, 3.0]\n",
            "The mean of value of these numbers is:  25.833333333333332\n",
            "The median value of these numbers is:  19.5\n",
            "And their standard deviation is:  25.933890311071085\n"
          ]
        },
        {
          "output_type": "display_data",
          "data": {
            "text/plain": [
              "<Figure size 432x288 with 1 Axes>"
            ],
            "image/png": "[encoded data removed]"
          },
          "metadata": {
            "needs_background": "light"
          }
        },
        {
          "output_type": "stream",
          "name": "stdout",
          "text": [
            "1000: Repayment in 9 year and 0 months\n",
            "2000:Repayment in 4 years and 7 months\n",
            "3000:Repayment in 3 years and 1 months\n",
            "4000:Repayment in 2 years and 4 months\n"
          ]
        },
        {
          "output_type": "execute_result",
          "data": {
            "text/plain": [
              "\"\\nwindow = TK()\\nwindow.title('secrete message')\\nwindow= canvas(window,width=500,height=500)\\nwindow.pack()\\nimage = PhotoImage(file = 'C:\\\\Users\\\\asabe\\\\Desktop\\\\Honours Modules\\\\2022 Material\\\\Computational Physics' )\\nwindow.create_image(0,0, enchor = NW, Image() = image )\\n\""
            ],
            "application/vnd.google.colaboratory.intrinsic+json": {
              "type": "string"
            }
          },
          "metadata": {},
          "execution_count": 1
        }
      ],
      "source": [
        "# -*- coding: utf-8 -*-\n",
        "\"\"\"\n",
        "Created on Mon May 13 07:05:55 2022\n",
        "\n",
        "@author: asabe\n",
        "\"\"\"\n",
        "\n",
        "import numpy as np\n",
        "import matplotlib.pyplot as plt\n",
        "from tkinter import *\n",
        "import statistics as statistics \n",
        "\n",
        "\n",
        "'''import cv2  \n",
        "import types'''  \n",
        "#--------------------------------QUESTION 1-------------------------------------------\n",
        "number= int(input(\"please enter a number:\"))\n",
        "\n",
        "if number%3 == 0 :                                                              # the percentage is the modulus and it gives us the remainder \n",
        "    print(\"BLACK\")\n",
        "elif number%5 == 0:\n",
        "    print(\"PINK\")\n",
        "elif number%5 == 0 and number%3 == 0:\n",
        "    print(\"BLACKPINK\") \n",
        "elif number%2 == 0:\n",
        "    print(\"BLACKPINK\" [:: -1])                                                  # this prints the blackpink backwards   \n",
        "else :\n",
        "    print(\"this number is not divisible by 2,3 or 5.\")                                               \n",
        "\n",
        "\n",
        "\n",
        "\n",
        "\n",
        "\n",
        "#---------------------------------QUESTION 2-----------------------------------------\n",
        "\n",
        "\n",
        "Numberlist=list()\n",
        "num=str(input(\"Please enter a number(to stop the prompt, enter a special string'*':\"))\n",
        "\n",
        "def is_float(Numberlist) :\n",
        "    try :\n",
        "         float(Numberlist)\n",
        "         return True\n",
        "    except ValueError :\n",
        "         return False\n",
        "     \n",
        "while is_float(num) != True :\n",
        "   \n",
        "    num= input(\"please enter a valid number:\")\n",
        "\n",
        "while not num ==\"*\":\n",
        "  num=float(num)\n",
        "  Numberlist.append(num)\n",
        "  num=str(input(\"Please enter a number(to stop the prompt, enter a special string'*':\"))\n",
        "\n",
        "while  num !=\"*\":\n",
        "    num=float(num)                                                          \n",
        "    Numberlist.append(num)                                                           #append will keep on adding the numbers for the first loop it adds to the first index and keeps on adding as looping goes on \n",
        "    num=str(input(\"Please enter a number(to stop the prompt, enter a special string'*':\"))                  # converts what ever input to a sting so we can be able to see even when its a special character\"*\"\n",
        "  \n",
        "    plt.hist(Numberlist) \n",
        "    plt.title(\"A histogram graph showing numbers entered by the user\")              # creates the tittle of the histogram\n",
        "    plt.xlabel(\"Numbers\")                                                            #labaling of axis\n",
        "    plt.ylabel(\"Frequency\")\n",
        "    plt.show()                                                      # creates the histogram\n",
        "    plt.show()\n",
        "    plt.show()\n",
        "print(\"This list of numbers entered is :\", str(Numberlist))                          # used str to convert the list to a presentable string\n",
        "print(\"The mean of value of these numbers is: \", str(np.mean(Numberlist)))           # to calculate the mean\n",
        "print(\"The median value of these numbers is: \", str(statistics.median(Numberlist)))         # to calvulate the median\n",
        "print(\"And their standard deviation is: \", str(statistics.stdev(Numberlist)))\n",
        "\n",
        "#---------------------------------Question 3-----------------------------------------\n",
        "\n",
        "def intrestRate(inAmount: float)->float:                                                                                              \n",
        "    return inAmount - (0.065 * inAmount)                                              # the output of the function and it is a float type \n",
        "\n",
        "def payments(inAmount: float)-> tuple:                                                # take in the initial amount as nput, \n",
        "    intr = list([100_000])                                                            # intest list with the first entry not being affected by any interest\n",
        "    mon = list([0])                                                                   # months list, with first value being zero\n",
        "    n = 0\n",
        "    while True:\n",
        "        balance = intr[-1] - intrestRate(inAmount)\n",
        "        intr.append(balance)\n",
        "        n = n + 1\n",
        "        mon.append(n)\n",
        "        if balance <= 0:\n",
        "            break\n",
        "        \n",
        "    return mon, intr\n",
        "def period(month:int)->tuple:\n",
        "    return month/12, month%12\n",
        "\n",
        "plt.plot(*payments(1_000.00),label=\"1000\")\n",
        "plt.plot(*payments(2_000.00),label=\"2000\")\n",
        "plt.plot(*payments(3_000.00),label=\"3000\")\n",
        "plt.plot(*payments(4_000.00),label=\"4000\")                                        \n",
        "\n",
        "plt.legend()                                                                            # I use legend so i can visualise the different interest rate lines as we move from 0 months to 60 months \n",
        "plt.ylim((0, 120_000.00))                                                               #The y-label 120 000 till 0, so I can see easily the point with 100 000 as the stariing point \n",
        "plt.xlim((0, 60))                                                                       #The x-label from zero to the 60th moonth\n",
        "plt.title(\"The graph that shows balance over 60months at different levels of interest\")\n",
        "plt.ylabel(\"Debt\")\n",
        "plt.xlabel(\"Number of months\")\n",
        "plt.show()                                                                               #Shows the plot\n",
        "\n",
        "y, m = period(len(payments(1_000.00)[0]))\n",
        "print(f\"1000: Repayment in {int(y)} year and {m} months\")\n",
        "y, m = period(len(payments(2_000.00)[0]))\n",
        "print(f\"2000:Repayment in {int(y)} years and {m} months\")\n",
        "y, m = period(len(payments(3_000.00)[0]))\n",
        "print(f\"3000:Repayment in {int(y)} years and {m} months\")\n",
        "y, m = period(len(payments(4_000.00)[0]))\n",
        "print(f\"4000:Repayment in {int(y)} years and {m} months\")\n",
        "        \n",
        "#-----------------------------------QUESTION 4-----------------------------------\n",
        "'''\n",
        "window = TK()\n",
        "window.title('secrete message')\n",
        "window= canvas(window,width=500,height=500)\n",
        "window.pack()\n",
        "image = PhotoImage(file = 'C:\\\\Users\\\\asabe\\\\Desktop\\\\Honours Modules\\\\2022 Material\\\\Computational Physics' )\n",
        "window.create_image(0,0, enchor = NW, Image() = image )\n",
        "'''4"
      ]
    },
    {
      "cell_type": "code",
      "source": [
        ""
      ],
      "metadata": {
        "id": "5MOtKMXYVnvr"
      },
      "execution_count": null,
      "outputs": []
    }
  ]
}